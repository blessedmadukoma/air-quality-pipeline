{
 "cells": [
  {
   "cell_type": "code",
   "execution_count": 15,
   "metadata": {},
   "outputs": [],
   "source": [
    "# libraries\n",
    "\n",
    "import os\n",
    "import json\n",
    "from dotenv import load_dotenv\n",
    "from openaq import OpenAQ"
   ]
  },
  {
   "cell_type": "code",
   "execution_count": 2,
   "metadata": {},
   "outputs": [
    {
     "data": {
      "text/plain": [
       "<openaq._sync.client.OpenAQ at 0x71eb148f9db0>"
      ]
     },
     "execution_count": 2,
     "metadata": {},
     "output_type": "execute_result"
    }
   ],
   "source": [
    "# load env\n",
    "\n",
    "load_dotenv()\n",
    "\n",
    "OPENAQ_API_KEY = os.getenv(\"OPENAQ_API_KEY\")\n",
    "\n",
    "# connect to OpenAQ\n",
    "client = OpenAQ(api_key=OPENAQ_API_KEY)\n",
    "\n",
    "client"
   ]
  },
  {
   "cell_type": "code",
   "execution_count": null,
   "metadata": {},
   "outputs": [
    {
     "data": {
      "text/plain": [
       "Meta(name='openaq-api', website='/', page=1, limit=1000, found=0)"
      ]
     },
     "execution_count": 18,
     "metadata": {},
     "output_type": "execute_result"
    }
   ],
   "source": [
    "# Getting the location for Babcock University using bboxfinder.com\n",
    "bbox_search_locations = client.locations.list(\n",
    "    bbox=(30.006409,-2.003910,30.195580,-1.909208), # kigali\n",
    "    # bbox=(3.381386,6.438386,3.453827,6.469174), # Nigeria - Ikoyi\n",
    "    limit=1000\n",
    ")\n",
    "\n",
    "bbox_search_locations.meta"
   ]
  },
  {
   "cell_type": "code",
   "execution_count": 13,
   "metadata": {},
   "outputs": [
    {
     "data": {
      "text/plain": [
       "{'id': 42400,\n",
       " 'name': 'KGL',\n",
       " 'locality': None,\n",
       " 'timezone': 'Africa/Kigali',\n",
       " 'country': CountryBase(id=126, code='RW', name='Rwanda'),\n",
       " 'owner': OwnerBase(id=4, name='Unknown Governmental Organization'),\n",
       " 'provider': ProviderBase(id=218, name='Rwanda REMA'),\n",
       " 'is_mobile': False,\n",
       " 'is_monitor': True,\n",
       " 'instruments': [InstrumentBase(id=2, name='Government Monitor')],\n",
       " 'sensors': [SensorBase(id=228495, name='co ppm', parameter=ParameterBase(id=8, name='co', units='ppm', display_name='CO')),\n",
       "  SensorBase(id=228497, name='no2 ppm', parameter=ParameterBase(id=7, name='no2', units='ppm', display_name='NO₂')),\n",
       "  SensorBase(id=228494, name='pm10 µg/m³', parameter=ParameterBase(id=1, name='pm10', units='µg/m³', display_name='PM10')),\n",
       "  SensorBase(id=228496, name='pm25 µg/m³', parameter=ParameterBase(id=2, name='pm25', units='µg/m³', display_name='PM2.5'))],\n",
       " 'coordinates': Coordinates(latitude=-1.955597, longitude=30.0577381),\n",
       " 'bounds': [30.0577381, -1.955597, 30.0577381, -1.955597],\n",
       " 'distance': None,\n",
       " 'datetime_first': Datetime(utc='2020-12-28T23:00:00Z', local='2020-12-29T01:00:00+02:00'),\n",
       " 'datetime_last': Datetime(utc='2023-05-04T10:00:00Z', local='2023-05-04T12:00:00+02:00')}"
      ]
     },
     "execution_count": 13,
     "metadata": {},
     "output_type": "execute_result"
    }
   ],
   "source": [
    "# get the info of the first result in a dictionary\n",
    "bbox_search_locations.results[0].__dict__"
   ]
  },
  {
   "cell_type": "code",
   "execution_count": 14,
   "metadata": {},
   "outputs": [
    {
     "data": {
      "text/plain": [
       "{42400: 'KGL', 313953: 'Kigali'}"
      ]
     },
     "execution_count": 14,
     "metadata": {},
     "output_type": "execute_result"
    }
   ],
   "source": [
    "# get the location details\n",
    "locations_info = {}\n",
    "\n",
    "for location in bbox_search_locations.results:\n",
    "    locations_info[location.id] = location.name\n",
    "\n",
    "locations_info"
   ]
  },
  {
   "cell_type": "code",
   "execution_count": 16,
   "metadata": {},
   "outputs": [
    {
     "name": "stdout",
     "output_type": "stream",
     "text": [
      "Location data dumped successfuly!\n"
     ]
    }
   ],
   "source": [
    "# store in a json file\n",
    "with open(\"../locations.json\", \"w\", encoding=\"utf-8\") as f:\n",
    "    json.dump(locations_info, f, ensure_ascii=False, indent=4)\n",
    "\n",
    "    print(\"Location data dumped successfuly!\")"
   ]
  }
 ],
 "metadata": {
  "kernelspec": {
   "display_name": ".venv",
   "language": "python",
   "name": "python3"
  },
  "language_info": {
   "codemirror_mode": {
    "name": "ipython",
    "version": 3
   },
   "file_extension": ".py",
   "mimetype": "text/x-python",
   "name": "python",
   "nbconvert_exporter": "python",
   "pygments_lexer": "ipython3",
   "version": "3.10.15"
  }
 },
 "nbformat": 4,
 "nbformat_minor": 2
}
